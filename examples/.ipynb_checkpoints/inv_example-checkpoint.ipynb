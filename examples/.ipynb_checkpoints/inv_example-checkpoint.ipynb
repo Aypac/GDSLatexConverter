{
 "cells": [
  {
   "cell_type": "markdown",
   "metadata": {},
   "source": [
    "<h1>Inverter Example</h1>\n",
    "Example gds file taken from <a href='http://www.yzuda.org/download/_GDSII_examples.html'>http://www.yzuda.org/download/_GDSII_examples.html</a>.\n",
    "\n",
    "<h2>Load gds file</h2>"
   ]
  },
  {
   "cell_type": "code",
   "execution_count": 1,
   "metadata": {
    "collapsed": false
   },
   "outputs": [
    {
     "name": "stderr",
     "output_type": "stream",
     "text": [
      "/home/rene/anaconda3/lib/python3.6/site-packages/ipykernel_launcher.py:3: RuntimeWarning: [GDSPY] Record type PROPATTR (2B) is not supported.\n",
      "  This is separate from the ipykernel package so we can avoid doing imports until\n",
      "/home/rene/anaconda3/lib/python3.6/site-packages/ipykernel_launcher.py:3: RuntimeWarning: [GDSPY] Record type PROPVALUE (2C) is not supported.\n",
      "  This is separate from the ipykernel package so we can avoid doing imports until\n"
     ]
    }
   ],
   "source": [
    "import gdspy\n",
    "gdsii = gdspy.GdsLibrary()\n",
    "lib = gdsii.read_gds(infile='inv.gds2')"
   ]
  },
  {
   "cell_type": "markdown",
   "metadata": {
    "collapsed": false,
    "scrolled": true
   },
   "source": [
    "<h2>Create Converter library</h2>\n",
    "and print list of all layers"
   ]
  },
  {
   "cell_type": "code",
   "execution_count": 1,
   "metadata": {
    "collapsed": false
   },
   "outputs": [
    {
     "name": "stdout",
     "output_type": "stream",
     "text": [
      "[  2   3  41  42  43  44  45  46  47  48  49  50  51 149 162]\n"
     ]
    }
   ],
   "source": [
    "#Load library\n",
    "from GDSLatexConverter import GDSLatexConverter\n",
    "\n",
    "#Create converter\n",
    "conv = GDSLatexConverter(lib)\n",
    "\n",
    "# Display all available layers:\n",
    "print(conv.all_layer)"
   ]
  },
  {
   "cell_type": "markdown",
   "metadata": {},
   "source": [
    "<h2>Do a very basic latex line plot</h2>"
   ]
  },
  {
   "cell_type": "code",
   "execution_count": 1,
   "metadata": {
    "collapsed": false
   },
   "outputs": [],
   "source": [
    "def save_and_plot(converter, filename):\n",
    "    converter.compile(filename=filename)\n",
    "\n",
    "    # Show the output pdf\n",
    "    try:\n",
    "        from wand.image import Image as WImage\n",
    "        img = WImage(filename=filename + '.pdf')\n",
    "        img.rotate(90)\n",
    "    except:\n",
    "        img = 'PDF could not be displayed. Please install the library wand (pip install wand).'\n",
    "    return img"
   ]
  },
  {
   "cell_type": "code",
   "execution_count": 1,
   "metadata": {
    "collapsed": false,
    "scrolled": true
   },
   "outputs": [
    {
     "data": {
      "image/png": "[encoded data removed]",
      "text/plain": [
       "<wand.image.Image: 6188207 'PNG' (851x178)>"
      ]
     },
     "execution_count": 1,
     "metadata": {},
     "output_type": "execute_result"
    }
   ],
   "source": [
    "conv = GDSLatexConverter(lib)\n",
    "conv.scale = 0.25 #Set a convienient scale for line-thickness\n",
    "\n",
    "save_and_plot(converter=conv, filename='inv_simple')"
   ]
  },
  {
   "cell_type": "code",
   "execution_count": 1,
   "metadata": {
    "collapsed": false,
    "scrolled": true
   },
   "outputs": [
    {
     "data": {
      "image/png": "[encoded data removed]",
      "text/plain": [
       "<wand.image.Image: 8a9bad2 'PNG' (682x144)>"
      ]
     },
     "execution_count": 1,
     "metadata": {},
     "output_type": "execute_result"
    }
   ],
   "source": [
    "# Add some colors!\n",
    "conv = GDSLatexConverter(lib)\n",
    "conv.scale = 0.2\n",
    "colorscheme = {\n",
    "        2: 'yellow',\n",
    "        41: 'green',\n",
    "        42: 'red',\n",
    "        48: 'blue',\n",
    "}\n",
    "conv.layer_drawcolor = colorscheme\n",
    "drawopt = {\n",
    "        2: 'line width=2, fill=yellow, fill opacity=0.2',\n",
    "        41: 'line width=1.2, pattern=north west lines, pattern color=green!15, ',\n",
    "        42: 'line width=1.2, pattern=north east lines, pattern color=red!15,',\n",
    "}\n",
    "conv.layer_drawopt = drawopt\n",
    "\n",
    "save_and_plot(converter=conv, filename='inv_colored')"
   ]
  },
  {
   "cell_type": "markdown",
   "metadata": {
    "collapsed": true
   },
   "source": [
    "<h2>Layer selection and ordering</h2>"
   ]
  },
  {
   "cell_type": "code",
   "execution_count": 1,
   "metadata": {
    "collapsed": false
   },
   "outputs": [
    {
     "data": {
      "image/png": "[encoded data removed]",
      "text/plain": [
       "<wand.image.Image: bb723ed 'PNG' (660x144)>"
      ]
     },
     "execution_count": 1,
     "metadata": {},
     "output_type": "execute_result"
    }
   ],
   "source": [
    "conv = GDSLatexConverter(lib)\n",
    "conv.layer_order = [43, 42, 48]\n",
    "conv.scale = 0.2\n",
    "conv.layer_drawcolor = colorscheme\n",
    "conv.layer_drawopt = {\n",
    "        42: 'line width=2, fill=yellow, ',\n",
    "        43: 'line width=2, fill=green, ',\n",
    "}\n",
    "\n",
    "\n",
    "save_and_plot(converter=conv, filename='inv_order1')"
   ]
  },
  {
   "cell_type": "code",
   "execution_count": 1,
   "metadata": {
    "collapsed": false
   },
   "outputs": [
    {
     "data": {
      "image/png": "[encoded data removed]",
      "text/plain": [
       "<wand.image.Image: b755f8f 'PNG' (660x144)>"
      ]
     },
     "execution_count": 1,
     "metadata": {},
     "output_type": "execute_result"
    }
   ],
   "source": [
    "#Not so clever layer order (layer 43 and 42 cover layer 48)\n",
    "conv.layer_order = [48, 43, 42]\n",
    "conv.parse() # Force re-parsing\n",
    "save_and_plot(converter=conv, filename='inv_order2')"
   ]
  },
  {
   "cell_type": "markdown",
   "metadata": {},
   "source": [
    "<h2>Alternative $\\LaTeX$-environment</h2>"
   ]
  },
  {
   "cell_type": "code",
   "execution_count": 1,
   "metadata": {
    "collapsed": false
   },
   "outputs": [
    {
     "data": {
      "image/png": "[encoded data removed]",
      "text/plain": [
       "<wand.image.Image: 8a9bad2 'PNG' (682x144)>"
      ]
     },
     "execution_count": 1,
     "metadata": {},
     "output_type": "execute_result"
    }
   ],
   "source": [
    "# Color Example using PDFLatex instead of Lualatex\n",
    "conv = GDSLatexConverter(lib)\n",
    "conv.scale = 0.2\n",
    "conv.textype = GDSLatexConverter.PDFLATEX\n",
    "conv.layer_drawcolor = colorscheme\n",
    "conv.layer_drawopt = drawopt\n",
    "save_and_plot(converter=conv, filename='inv_colored_pdflatex')"
   ]
  }
 ],
 "metadata": {
  "kernelspec": {
   "display_name": "Python 3",
   "language": "python",
   "name": "python3"
  },
  "language_info": {
   "codemirror_mode": {
    "name": "ipython",
    "version": 3
   },
   "file_extension": ".py",
   "mimetype": "text/x-python",
   "name": "python",
   "nbconvert_exporter": "python",
   "pygments_lexer": "ipython3",
   "version": "3.6.0"
  }
 },
 "nbformat": 4,
 "nbformat_minor": 2
}
